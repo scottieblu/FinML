{
 "cells": [
  {
   "cell_type": "code",
   "execution_count": 136,
   "metadata": {
    "collapsed": false
   },
   "outputs": [
    {
     "name": "stdout",
     "output_type": "stream",
     "text": [
      "Python 3.6.8 |Anaconda, Inc.| (default, Dec 29 2018, 19:04:46) \n[GCC 4.2.1 Compatible Clang 4.0.1 (tags/RELEASE_401/final)] on darwin\n/Users/scottblunsden/Programs/FinML\n"
     ]
    },
    {
     "name": "stdout",
     "output_type": "stream",
     "text": [
      "-------------------------------------------------------------------------------\ndataframe information\n-------------------------------------------------------------------------------\n                         price      bid      ask  size     v           dv\ndates                                                                    \n2019-02-22 15:58:00  1130.4301  1130.38  1130.48  3125  3125  353256.8862\n2019-02-22 15:59:00  1017.3950  1017.37  1017.47  1559  1559  176238.3600\n2019-02-22 16:00:00   113.0500   113.04   113.05  1147  1147  129668.3500\n2019-02-22 16:10:00   113.0500   112.67   113.15     0     0       0.0000\n2019-02-22 18:30:00   113.0500   112.57   113.59     0     0       0.0000\n--------------------------------------------------\n<class 'pandas.core.frame.DataFrame'>\nDatetimeIndex: 565466 entries, 2009-09-28 09:30:00 to 2019-02-22 18:30:00\nData columns (total 6 columns):\nprice    565466 non-null float64\nbid      565466 non-null float64\nask      565466 non-null float64\nsize     565466 non-null int64\nv        565466 non-null int64\ndv       565466 non-null float64\ndtypes: float64(4), int64(2)\nmemory usage: 30.2 MB\nNone\n-------------------------------------------------------------------------------\n\n"
     ]
    }
   ],
   "source": [
    "import sys; print('Python %s on %s' % (sys.version, sys.platform))\n",
    "\n",
    "import warnings\n",
    "warnings.filterwarnings(\"ignore\")\n",
    "\n",
    "from pathlib import PurePath\n",
    "from src.utils.utils import *\n",
    "\n",
    "pdir = get_relative_project_dir('FinML', partial=False)\n",
    "# for notebook references\n",
    "sys.path.extend([pdir])\n",
    "print(pdir)\n",
    "\n",
    "data_dir = pdir / 'data'\n",
    "data_raw_dir = data_dir / 'raw'\n",
    "data_interim_dir = data_dir / 'interim'\n",
    "data_processed_dir = data_dir / 'processed'\n",
    "\n",
    "#file_name = 'IVE_dollarValue_resampled_1s'\n",
    "file_name = 'IVE_tickbidask_clean'\n",
    "file_ext = '.parq'\n",
    "\n",
    "parq_file_name = file_name + file_ext\n",
    "# Load from parquet\n",
    "infp = PurePath(data_interim_dir / parq_file_name)\n",
    "\n",
    "df = pd.read_parquet(infp)\n",
    "df = df.resample('1T').sum().drop_duplicates().dropna()\n",
    "\n",
    "cprint(df)\n"
   ]
  },
  {
   "cell_type": "code",
   "execution_count": 137,
   "metadata": {
    "collapsed": true
   },
   "outputs": [
    {
     "name": "stderr",
     "output_type": "stream",
     "text": [
      "\r  0%|          | 0/565466 [00:00<?, ?it/s]"
     ]
    },
    {
     "name": "stderr",
     "output_type": "stream",
     "text": [
      "\r 24%|██▍       | 136828/565466 [00:00<00:00, 1368268.26it/s]"
     ]
    },
    {
     "name": "stderr",
     "output_type": "stream",
     "text": [
      "\r 52%|█████▏    | 293749/565466 [00:00<00:00, 1422930.81it/s]"
     ]
    },
    {
     "name": "stderr",
     "output_type": "stream",
     "text": [
      "\r 82%|████████▏ | 461495/565466 [00:00<00:00, 1490788.96it/s]"
     ]
    },
    {
     "name": "stderr",
     "output_type": "stream",
     "text": [
      "\r100%|██████████| 565466/565466 [00:00<00:00, 1582334.79it/s]"
     ]
    },
    {
     "name": "stderr",
     "output_type": "stream",
     "text": [
      "\n"
     ]
    },
    {
     "name": "stdout",
     "output_type": "stream",
     "text": [
      "-------------------------------------------------------------------------------\ndataframe information\n-------------------------------------------------------------------------------\n                        price     bid     ask   size      v            dv\ndates                                                                    \n2019-02-22 15:33:00  677.6299  677.59  677.66   5335   5335  6.024895e+05\n2019-02-22 15:39:00  225.6800  225.68  225.70  11850  11850  1.337154e+06\n2019-02-22 15:52:00  451.5470  451.53  451.55   3546   3546  4.002687e+05\n2019-02-22 15:55:00  564.6950  564.75  564.80   4800   4800  5.421880e+05\n2019-02-22 15:56:00  904.2716  904.21  904.30  18239  18239  2.061718e+06\n--------------------------------------------------\n<class 'pandas.core.frame.DataFrame'>\nDatetimeIndex: 49060 entries, 2009-09-28 09:46:00 to 2019-02-22 15:56:00\nData columns (total 6 columns):\nprice    49060 non-null float64\nbid      49060 non-null float64\nask      49060 non-null float64\nsize     49060 non-null int64\nv        49060 non-null int64\ndv       49060 non-null float64\ndtypes: float64(4), int64(2)\nmemory usage: 2.6 MB\nNone\n-------------------------------------------------------------------------------\n\n"
     ]
    }
   ],
   "source": [
    "import src.features.bars as bar\n",
    "\n",
    "bars = bar.Bars()\n",
    "\n",
    "dbars = bars.dollar_bar_df(df, 'dv', 1_000_000).drop_duplicates().dropna()\n",
    "cprint(dbars)"
   ]
  },
  {
   "cell_type": "code",
   "execution_count": 138,
   "metadata": {},
   "outputs": [
    {
     "name": "stdout",
     "output_type": "stream",
     "text": [
      "                     dailyVol\ndates                        \n2009-09-29 10:02:00  0.136713\n2009-09-29 10:21:00  1.633209\n2009-09-29 10:47:00  1.410228\n2009-09-29 11:32:00  1.230290\n2009-09-29 12:00:00  1.119849\n"
     ]
    }
   ],
   "source": [
    "import src.features.labeller as lab\n",
    "\n",
    "close = dbars.price.copy()\n",
    "labeller = lab.Labeller()\n",
    "dailyVol = labeller.getDailyVol(close).dropna()\n",
    "\n",
    "print(dailyVol.to_frame().head())\n"
   ]
  },
  {
   "cell_type": "code",
   "execution_count": 139,
   "metadata": {},
   "outputs": [
    {
     "data": {
      "text/plain": [
       "<matplotlib.lines.Line2D at 0x129ff75c0>"
      ]
     },
     "execution_count": 139,
     "metadata": {},
     "output_type": "execute_result"
    },
    {
     "data": {
      "image/png": "[encoded data removed]",
      "text/plain": [
       "<Figure size 432x288 with 1 Axes>"
      ]
     },
     "metadata": {},
     "output_type": "display_data"
    }
   ],
   "source": [
    "import matplotlib.pyplot as plt\n",
    "\n",
    "f,ax=plt.subplots()\n",
    "dailyVol.plot(ax=ax)\n",
    "ax.axhline(dailyVol.mean(),ls='--',color='r')\n"
   ]
  },
  {
   "cell_type": "code",
   "execution_count": 140,
   "metadata": {},
   "outputs": [
    {
     "name": "stderr",
     "output_type": "stream",
     "text": [
      "\r  0%|          | 0/49058 [00:00<?, ?it/s]"
     ]
    },
    {
     "name": "stderr",
     "output_type": "stream",
     "text": [
      "\r  1%|          | 579/49058 [00:00<00:08, 5787.11it/s]"
     ]
    },
    {
     "name": "stderr",
     "output_type": "stream",
     "text": [
      "\r  2%|▏         | 1159/49058 [00:00<00:08, 5790.93it/s]"
     ]
    },
    {
     "name": "stderr",
     "output_type": "stream",
     "text": [
      "\r  4%|▎         | 1816/49058 [00:00<00:07, 6001.68it/s]"
     ]
    },
    {
     "name": "stderr",
     "output_type": "stream",
     "text": [
      "\r  5%|▌         | 2531/49058 [00:00<00:07, 6304.33it/s]"
     ]
    },
    {
     "name": "stderr",
     "output_type": "stream",
     "text": [
      "\r  7%|▋         | 3258/49058 [00:00<00:06, 6565.62it/s]"
     ]
    },
    {
     "name": "stderr",
     "output_type": "stream",
     "text": [
      "\r  8%|▊         | 4002/49058 [00:00<00:06, 6803.78it/s]"
     ]
    },
    {
     "name": "stderr",
     "output_type": "stream",
     "text": [
      "\r 10%|▉         | 4703/49058 [00:00<00:06, 6861.86it/s]"
     ]
    },
    {
     "name": "stderr",
     "output_type": "stream",
     "text": [
      "\r 11%|█         | 5468/49058 [00:00<00:06, 7079.56it/s]"
     ]
    },
    {
     "name": "stderr",
     "output_type": "stream",
     "text": [
      "\r 13%|█▎        | 6239/49058 [00:00<00:05, 7255.72it/s]"
     ]
    },
    {
     "name": "stderr",
     "output_type": "stream",
     "text": [
      "\r 14%|█▍        | 7005/49058 [00:01<00:05, 7371.12it/s]"
     ]
    },
    {
     "name": "stderr",
     "output_type": "stream",
     "text": [
      "\r 16%|█▌        | 7770/49058 [00:01<00:05, 7452.59it/s]"
     ]
    },
    {
     "name": "stderr",
     "output_type": "stream",
     "text": [
      "\r 17%|█▋        | 8507/49058 [00:01<00:05, 7427.46it/s]"
     ]
    },
    {
     "name": "stderr",
     "output_type": "stream",
     "text": [
      "\r 19%|█▉        | 9282/49058 [00:01<00:05, 7520.83it/s]"
     ]
    },
    {
     "name": "stderr",
     "output_type": "stream",
     "text": [
      "\r 21%|██        | 10057/49058 [00:01<00:05, 7587.07it/s]"
     ]
    },
    {
     "name": "stderr",
     "output_type": "stream",
     "text": [
      "\r 22%|██▏       | 10814/49058 [00:01<00:05, 7480.88it/s]"
     ]
    },
    {
     "name": "stderr",
     "output_type": "stream",
     "text": [
      "\r 24%|██▎       | 11562/49058 [00:01<00:05, 7478.77it/s]"
     ]
    },
    {
     "name": "stderr",
     "output_type": "stream",
     "text": [
      "\r 25%|██▌       | 12322/49058 [00:01<00:04, 7513.53it/s]"
     ]
    },
    {
     "name": "stderr",
     "output_type": "stream",
     "text": [
      "\r 27%|██▋       | 13100/49058 [00:01<00:04, 7590.91it/s]"
     ]
    },
    {
     "name": "stderr",
     "output_type": "stream",
     "text": [
      "\r 28%|██▊       | 13863/49058 [00:01<00:04, 7600.78it/s]"
     ]
    },
    {
     "name": "stderr",
     "output_type": "stream",
     "text": [
      "\r 30%|██▉       | 14633/49058 [00:02<00:04, 7628.69it/s]"
     ]
    },
    {
     "name": "stderr",
     "output_type": "stream",
     "text": [
      "\r 31%|███▏      | 15396/49058 [00:02<00:04, 7621.49it/s]"
     ]
    },
    {
     "name": "stderr",
     "output_type": "stream",
     "text": [
      "\r 33%|███▎      | 16159/49058 [00:02<00:04, 7569.99it/s]"
     ]
    },
    {
     "name": "stderr",
     "output_type": "stream",
     "text": [
      "\r 35%|███▍      | 16934/49058 [00:02<00:04, 7622.30it/s]"
     ]
    },
    {
     "name": "stderr",
     "output_type": "stream",
     "text": [
      "\r 36%|███▌      | 17703/49058 [00:02<00:04, 7640.86it/s]"
     ]
    },
    {
     "name": "stderr",
     "output_type": "stream",
     "text": [
      "\r 38%|███▊      | 18468/49058 [00:02<00:04, 7591.04it/s]"
     ]
    },
    {
     "name": "stderr",
     "output_type": "stream",
     "text": [
      "\r 39%|███▉      | 19236/49058 [00:02<00:03, 7616.52it/s]"
     ]
    },
    {
     "name": "stderr",
     "output_type": "stream",
     "text": [
      "\r 41%|████      | 20014/49058 [00:02<00:03, 7662.14it/s]"
     ]
    },
    {
     "name": "stderr",
     "output_type": "stream",
     "text": [
      "\r 42%|████▏     | 20788/49058 [00:02<00:03, 7684.32it/s]"
     ]
    },
    {
     "name": "stderr",
     "output_type": "stream",
     "text": [
      "\r 44%|████▍     | 21557/49058 [00:02<00:03, 7676.59it/s]"
     ]
    },
    {
     "name": "stderr",
     "output_type": "stream",
     "text": [
      "\r 46%|████▌     | 22325/49058 [00:03<00:03, 7610.26it/s]"
     ]
    },
    {
     "name": "stderr",
     "output_type": "stream",
     "text": [
      "\r 47%|████▋     | 23097/49058 [00:03<00:03, 7641.97it/s]"
     ]
    },
    {
     "name": "stderr",
     "output_type": "stream",
     "text": [
      "\r 49%|████▊     | 23862/49058 [00:03<00:03, 7578.20it/s]"
     ]
    },
    {
     "name": "stderr",
     "output_type": "stream",
     "text": [
      "\r 50%|█████     | 24631/49058 [00:03<00:03, 7610.77it/s]"
     ]
    },
    {
     "name": "stderr",
     "output_type": "stream",
     "text": [
      "\r 52%|█████▏    | 25405/49058 [00:03<00:03, 7648.81it/s]"
     ]
    },
    {
     "name": "stderr",
     "output_type": "stream",
     "text": [
      "\r 53%|█████▎    | 26171/49058 [00:03<00:02, 7649.20it/s]"
     ]
    },
    {
     "name": "stderr",
     "output_type": "stream",
     "text": [
      "\r 55%|█████▍    | 26949/49058 [00:03<00:02, 7685.24it/s]"
     ]
    },
    {
     "name": "stderr",
     "output_type": "stream",
     "text": [
      "\r 57%|█████▋    | 27718/49058 [00:03<00:02, 7650.47it/s]"
     ]
    },
    {
     "name": "stderr",
     "output_type": "stream",
     "text": [
      "\r 58%|█████▊    | 28484/49058 [00:03<00:02, 7636.36it/s]"
     ]
    },
    {
     "name": "stderr",
     "output_type": "stream",
     "text": [
      "\r 60%|█████▉    | 29261/49058 [00:03<00:02, 7674.03it/s]"
     ]
    },
    {
     "name": "stderr",
     "output_type": "stream",
     "text": [
      "\r 61%|██████    | 30029/49058 [00:04<00:02, 7671.73it/s]"
     ]
    },
    {
     "name": "stderr",
     "output_type": "stream",
     "text": [
      "\r 63%|██████▎   | 30799/49058 [00:04<00:02, 7679.43it/s]"
     ]
    },
    {
     "name": "stderr",
     "output_type": "stream",
     "text": [
      "\r 64%|██████▍   | 31567/49058 [00:04<00:02, 7668.38it/s]"
     ]
    },
    {
     "name": "stderr",
     "output_type": "stream",
     "text": [
      "\r 66%|██████▌   | 32334/49058 [00:04<00:02, 7596.47it/s]"
     ]
    },
    {
     "name": "stderr",
     "output_type": "stream",
     "text": [
      "\r 67%|██████▋   | 33107/49058 [00:04<00:02, 7635.32it/s]"
     ]
    },
    {
     "name": "stderr",
     "output_type": "stream",
     "text": [
      "\r 69%|██████▉   | 33871/49058 [00:04<00:01, 7622.61it/s]"
     ]
    },
    {
     "name": "stderr",
     "output_type": "stream",
     "text": [
      "\r 71%|███████   | 34641/49058 [00:04<00:01, 7645.53it/s]"
     ]
    },
    {
     "name": "stderr",
     "output_type": "stream",
     "text": [
      "\r 72%|███████▏  | 35406/49058 [00:04<00:01, 7632.80it/s]"
     ]
    },
    {
     "name": "stderr",
     "output_type": "stream",
     "text": [
      "\r 74%|███████▎  | 36179/49058 [00:04<00:01, 7660.35it/s]"
     ]
    },
    {
     "name": "stderr",
     "output_type": "stream",
     "text": [
      "\r 75%|███████▌  | 36957/49058 [00:04<00:01, 7695.73it/s]"
     ]
    },
    {
     "name": "stderr",
     "output_type": "stream",
     "text": [
      "\r 77%|███████▋  | 37727/49058 [00:05<00:01, 7650.91it/s]"
     ]
    },
    {
     "name": "stderr",
     "output_type": "stream",
     "text": [
      "\r 78%|███████▊  | 38495/49058 [00:05<00:01, 7656.98it/s]"
     ]
    },
    {
     "name": "stderr",
     "output_type": "stream",
     "text": [
      "\r 80%|████████  | 39265/49058 [00:05<00:01, 7668.46it/s]"
     ]
    },
    {
     "name": "stderr",
     "output_type": "stream",
     "text": [
      "\r 82%|████████▏ | 40047/49058 [00:05<00:01, 7710.68it/s]"
     ]
    },
    {
     "name": "stderr",
     "output_type": "stream",
     "text": [
      "\r 83%|████████▎ | 40819/49058 [00:05<00:01, 7665.93it/s]"
     ]
    },
    {
     "name": "stderr",
     "output_type": "stream",
     "text": [
      "\r 85%|████████▍ | 41586/49058 [00:05<00:00, 7649.34it/s]"
     ]
    },
    {
     "name": "stderr",
     "output_type": "stream",
     "text": [
      "\r 86%|████████▋ | 42365/49058 [00:05<00:00, 7689.39it/s]"
     ]
    },
    {
     "name": "stderr",
     "output_type": "stream",
     "text": [
      "\r 88%|████████▊ | 43135/49058 [00:05<00:00, 7663.52it/s]"
     ]
    },
    {
     "name": "stderr",
     "output_type": "stream",
     "text": [
      "\r 89%|████████▉ | 43902/49058 [00:05<00:00, 7650.78it/s]"
     ]
    },
    {
     "name": "stderr",
     "output_type": "stream",
     "text": [
      "\r 91%|█████████ | 44668/49058 [00:05<00:00, 7623.43it/s]"
     ]
    },
    {
     "name": "stderr",
     "output_type": "stream",
     "text": [
      "\r 93%|█████████▎| 45431/49058 [00:06<00:00, 7617.95it/s]"
     ]
    },
    {
     "name": "stderr",
     "output_type": "stream",
     "text": [
      "\r 94%|█████████▍| 46209/49058 [00:06<00:00, 7664.97it/s]"
     ]
    },
    {
     "name": "stderr",
     "output_type": "stream",
     "text": [
      "\r 96%|█████████▌| 46976/49058 [00:06<00:00, 7626.87it/s]"
     ]
    },
    {
     "name": "stderr",
     "output_type": "stream",
     "text": [
      "\r 97%|█████████▋| 47739/49058 [00:06<00:00, 7625.82it/s]"
     ]
    },
    {
     "name": "stderr",
     "output_type": "stream",
     "text": [
      "\r 99%|█████████▉| 48502/49058 [00:06<00:00, 7625.97it/s]"
     ]
    },
    {
     "name": "stderr",
     "output_type": "stream",
     "text": [
      "\r100%|██████████| 49058/49058 [00:06<00:00, 7536.27it/s]"
     ]
    },
    {
     "name": "stderr",
     "output_type": "stream",
     "text": [
      "\n"
     ]
    },
    {
     "data": {
      "text/plain": [
       "DatetimeIndex(['2009-10-01 10:00:00', '2009-10-01 12:25:00',\n               '2010-05-06 14:43:00', '2010-05-10 13:01:00',\n               '2010-09-30 09:42:00', '2010-11-18 14:23:00',\n               '2010-11-18 14:29:00', '2011-02-11 12:40:00',\n               '2011-02-14 10:34:00', '2011-09-21 14:24:00',\n               ...\n               '2018-12-27 15:50:00', '2018-12-27 16:11:00',\n               '2018-12-28 15:53:00', '2018-12-28 16:00:00',\n               '2018-12-31 15:59:00', '2018-12-31 16:13:00',\n               '2019-01-18 10:19:00', '2019-01-18 11:50:00',\n               '2019-01-30 14:00:00', '2019-01-31 10:03:00'],\n              dtype='datetime64[ns]', length=134, freq=None)"
      ]
     },
     "execution_count": 140,
     "metadata": {},
     "output_type": "execute_result"
    }
   ],
   "source": [
    "tEvents = labeller.getTEvents(close,h=dailyVol.mean())\n",
    "tEvents"
   ]
  },
  {
   "cell_type": "code",
   "execution_count": 141,
   "metadata": {},
   "outputs": [
    {
     "data": {
      "text/plain": [
       "2009-10-01 10:00:00   2009-10-02 10:02:00\n2009-10-01 12:25:00   2009-10-02 12:54:00\n2010-05-06 14:43:00   2010-05-07 14:50:00\n2010-05-10 13:01:00   2010-05-11 13:12:00\n2010-09-30 09:42:00   2010-10-01 09:51:00\nName: dates, dtype: datetime64[ns]"
      ]
     },
     "execution_count": 141,
     "metadata": {},
     "output_type": "execute_result"
    }
   ],
   "source": [
    "t1 = labeller.addVerticalBarrier(tEvents, close, numDays=1)\n",
    "t1.head()"
   ]
  },
  {
   "cell_type": "code",
   "execution_count": 142,
   "metadata": {},
   "outputs": [
    {
     "name": "stderr",
     "output_type": "stream",
     "text": [
      "2019-03-17 19:35:35.641541 33.33% applyPtSlOnT1 done after 0.0 minutes. Remaining 0.01 minutes.\r2019-03-17 19:35:35.645299 66.67% applyPtSlOnT1 done after 0.0 minutes. Remaining 0.0 minutes.\r2019-03-17 19:35:35.646142 100.0% applyPtSlOnT1 done after 0.0 minutes. Remaining 0.0 minutes.\n"
     ]
    }
   ],
   "source": [
    "# create target series\n",
    "ptsl = [1,1]\n",
    "target=dailyVol\n",
    "# select minRet\n",
    "minRet = 0.01\n",
    "\n",
    "from multiprocessing import cpu_count\n",
    "\n",
    "# Run in single-threaded mode on Windows\n",
    "import platform\n",
    "if platform.system() == \"Windows\":\n",
    "    cpus = 1\n",
    "else:\n",
    "    cpus = cpu_count() - 1\n",
    "    \n",
    "events = labeller.getEvents(close,tEvents,ptsl,target,minRet,cpus,t1=t1)"
   ]
  },
  {
   "cell_type": "code",
   "execution_count": 143,
   "metadata": {},
   "outputs": [
    {
     "name": "stdout",
     "output_type": "stream",
     "text": [
      "-------------------------------------------------------------------------------\ndataframe information\n-------------------------------------------------------------------------------\n                           ret  bin\n2018-12-31 16:13:00   6.885626  1.0\n2019-01-18 10:19:00  -0.873866 -1.0\n2019-01-18 11:50:00  13.020106  1.0\n2019-01-30 14:00:00  -0.753472 -1.0\n2019-01-31 10:03:00  12.040709  1.0\n--------------------------------------------------\n<class 'pandas.core.frame.DataFrame'>\nDatetimeIndex: 134 entries, 2009-10-01 10:00:00 to 2019-01-31 10:03:00\nData columns (total 2 columns):\nret    134 non-null float64\nbin    134 non-null float64\ndtypes: float64(2)\nmemory usage: 8.1 KB\nNone\n-------------------------------------------------------------------------------\n\n-1.0    71\n 1.0    63\nName: bin, dtype: int64\n"
     ]
    }
   ],
   "source": [
    "labels = labeller.getBins(events, close)\n",
    "cprint(labels)\n",
    "print(labels.bin.value_counts())"
   ]
  },
  {
   "cell_type": "code",
   "execution_count": 144,
   "metadata": {},
   "outputs": [
    {
     "name": "stdout",
     "output_type": "stream",
     "text": [
      "-------------------------------------------------------------------------------\ndataframe information\n-------------------------------------------------------------------------------\n                           ret  bin\n2018-12-31 16:13:00   6.885626  1.0\n2019-01-18 10:19:00  -0.873866 -1.0\n2019-01-18 11:50:00  13.020106  1.0\n2019-01-30 14:00:00  -0.753472 -1.0\n2019-01-31 10:03:00  12.040709  1.0\n--------------------------------------------------\n<class 'pandas.core.frame.DataFrame'>\nDatetimeIndex: 134 entries, 2009-10-01 10:00:00 to 2019-01-31 10:03:00\nData columns (total 2 columns):\nret    134 non-null float64\nbin    134 non-null float64\ndtypes: float64(2)\nmemory usage: 8.1 KB\nNone\n-------------------------------------------------------------------------------\n\n-1.0    71\n 1.0    63\nName: bin, dtype: int64\n"
     ]
    }
   ],
   "source": [
    "clean_labels = labeller.dropLabels(labels)\n",
    "cprint(clean_labels)\n",
    "print(clean_labels.bin.value_counts())"
   ]
  }
 ],
 "metadata": {
  "kernelspec": {
   "display_name": "Python 2",
   "language": "python",
   "name": "python2"
  },
  "language_info": {
   "codemirror_mode": {
    "name": "ipython",
    "version": 2
   },
   "file_extension": ".py",
   "mimetype": "text/x-python",
   "name": "python",
   "nbconvert_exporter": "python",
   "pygments_lexer": "ipython2",
   "version": "2.7.6"
  }
 },
 "nbformat": 4,
 "nbformat_minor": 0
}
