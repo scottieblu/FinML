{
 "cells": [
  {
   "cell_type": "code",
   "execution_count": 2,
   "metadata": {
    "collapsed": true
   },
   "outputs": [
    {
     "name": "stdout",
     "output_type": "stream",
     "text": [
      "                     price    bid    ask   size      v        dv\n2009-09-28 09:30:00  50.75  50.70  50.79  369.0  369.0  18715.99\n2009-09-28 09:31:32  50.75  50.75  50.76  100.0  100.0   5075.00\n2009-09-28 09:31:33  50.75  50.72  50.75  100.0  100.0   5075.00\n2009-09-28 09:31:50  50.75  50.73  50.76  300.0  300.0  15225.00\n2009-09-28 09:31:51  50.75  50.74  50.76  300.0  300.0  15225.00\n<class 'pandas.core.frame.DataFrame'>\nDatetimeIndex: 941297 entries, 2009-09-28 09:30:00 to 2018-02-26 18:30:00\nData columns (total 6 columns):\nprice    941297 non-null float64\nbid      941297 non-null float64\nask      941297 non-null float64\nsize     941297 non-null float64\nv        941297 non-null float64\ndv       941297 non-null float64\ndtypes: float64(6)\nmemory usage: 50.3 MB\nNone\n"
     ]
    }
   ],
   "source": [
    "import pandas as pd\n",
    "\n",
    "import warnings\n",
    "warnings.filterwarnings(\"ignore\")\n",
    "\n",
    "data_path = '/Users/scottblunsden/Programs/FinML/data/raw/'\n",
    "file_name = 'IVE_dollarValue_resampled_1s'\n",
    "file_ext = '.parquet'\n",
    "infp = data_path+file_name+file_ext\n",
    "df = pd.read_parquet(infp)\n",
    "print(df.head())\n",
    "print(df.info(verbose=True))"
   ]
  },
  {
   "cell_type": "code",
   "execution_count": 3,
   "metadata": {},
   "outputs": [
    {
     "name": "stderr",
     "output_type": "stream",
     "text": [
      "\r  0%|          | 0/941297 [00:00<?, ?it/s]"
     ]
    },
    {
     "name": "stderr",
     "output_type": "stream",
     "text": [
      "\r 17%|█▋        | 161212/941297 [00:00<00:00, 1612117.69it/s]"
     ]
    },
    {
     "name": "stderr",
     "output_type": "stream",
     "text": [
      "\r 34%|███▍      | 322609/941297 [00:00<00:00, 1612669.94it/s]"
     ]
    },
    {
     "name": "stderr",
     "output_type": "stream",
     "text": [
      "\r 53%|█████▎    | 498762/941297 [00:00<00:00, 1654616.87it/s]"
     ]
    },
    {
     "name": "stderr",
     "output_type": "stream",
     "text": [
      "\r 73%|███████▎  | 682796/941297 [00:00<00:00, 1706270.87it/s]"
     ]
    },
    {
     "name": "stderr",
     "output_type": "stream",
     "text": [
      "\r 93%|█████████▎| 874086/941297 [00:00<00:00, 1763414.77it/s]"
     ]
    },
    {
     "name": "stderr",
     "output_type": "stream",
     "text": [
      "\r100%|██████████| 941297/941297 [00:00<00:00, 1769030.00it/s]"
     ]
    },
    {
     "name": "stderr",
     "output_type": "stream",
     "text": [
      "\n"
     ]
    },
    {
     "name": "stdout",
     "output_type": "stream",
     "text": [
      "                     price    bid    ask   size      v        dv\n2009-09-28 09:30:00  50.75  50.70  50.79  369.0  369.0  18715.99\n2009-09-28 09:31:32  50.75  50.75  50.76  100.0  100.0   5075.00\n2009-09-28 09:31:33  50.75  50.72  50.75  100.0  100.0   5075.00\n2009-09-28 09:31:50  50.75  50.73  50.76  300.0  300.0  15225.00\n2009-09-28 09:31:51  50.75  50.74  50.76  300.0  300.0  15225.00\n<class 'pandas.core.frame.DataFrame'>\nDatetimeIndex: 941297 entries, 2009-09-28 09:30:00 to 2018-02-26 18:30:00\nData columns (total 6 columns):\nprice    941297 non-null float64\nbid      941297 non-null float64\nask      941297 non-null float64\nsize     941297 non-null float64\nv        941297 non-null float64\ndv       941297 non-null float64\ndtypes: float64(6)\nmemory usage: 50.3 MB\nNone\n"
     ]
    }
   ],
   "source": [
    "import src.features.bars as bar\n",
    "\n",
    "bars = bar.Bars()\n",
    "\n",
    "dbars = bars.dollar_bar_df(df, 'dv', 1_000_000).drop_duplicates().dropna()\n",
    "print(df.head())\n",
    "print(df.info(verbose=True))"
   ]
  },
  {
   "cell_type": "code",
   "execution_count": 4,
   "metadata": {},
   "outputs": [
    {
     "name": "stdout",
     "output_type": "stream",
     "text": [
      "                     dailyVol\n2009-09-29 10:40:29  0.000605\n2009-09-29 11:18:50  0.002826\n2009-09-29 12:02:43  0.003339\n2009-09-29 12:53:47  0.002932\n2009-09-29 13:59:56  0.002609\n"
     ]
    }
   ],
   "source": [
    "import src.features.labeller as lab\n",
    "\n",
    "close = dbars.price.copy()\n",
    "labeller = lab.Labeller()\n",
    "dailyVol = labeller.getDailyVol(close).dropna()\n",
    "\n",
    "print(dailyVol.to_frame().head())\n"
   ]
  },
  {
   "cell_type": "code",
   "execution_count": 5,
   "metadata": {},
   "outputs": [
    {
     "data": {
      "text/plain": [
       "<matplotlib.lines.Line2D at 0x120328eb8>"
      ]
     },
     "execution_count": 5,
     "metadata": {},
     "output_type": "execute_result"
    },
    {
     "data": {
      "image/png": "[encoded data removed]",
      "text/plain": [
       "<Figure size 432x288 with 1 Axes>"
      ]
     },
     "metadata": {},
     "output_type": "display_data"
    }
   ],
   "source": [
    "import matplotlib.pyplot as plt\n",
    "\n",
    "f,ax=plt.subplots()\n",
    "dailyVol.plot(ax=ax)\n",
    "ax.axhline(dailyVol.mean(),ls='--',color='r')\n"
   ]
  },
  {
   "cell_type": "code",
   "execution_count": 6,
   "metadata": {},
   "outputs": [
    {
     "name": "stderr",
     "output_type": "stream",
     "text": [
      "\r  0%|          | 0/30858 [00:00<?, ?it/s]"
     ]
    },
    {
     "name": "stderr",
     "output_type": "stream",
     "text": [
      "\r  2%|▏         | 549/30858 [00:00<00:05, 5483.76it/s]"
     ]
    },
    {
     "name": "stderr",
     "output_type": "stream",
     "text": [
      "\r  4%|▍         | 1175/30858 [00:00<00:05, 5695.62it/s]"
     ]
    },
    {
     "name": "stderr",
     "output_type": "stream",
     "text": [
      "\r  6%|▌         | 1856/30858 [00:00<00:04, 5989.19it/s]"
     ]
    },
    {
     "name": "stderr",
     "output_type": "stream",
     "text": [
      "\r  8%|▊         | 2593/30858 [00:00<00:04, 6344.37it/s]"
     ]
    },
    {
     "name": "stderr",
     "output_type": "stream",
     "text": [
      "\r 11%|█         | 3363/30858 [00:00<00:04, 6697.29it/s]"
     ]
    },
    {
     "name": "stderr",
     "output_type": "stream",
     "text": [
      "\r 13%|█▎        | 4121/30858 [00:00<00:03, 6939.01it/s]"
     ]
    },
    {
     "name": "stderr",
     "output_type": "stream",
     "text": [
      "\r 16%|█▌        | 4857/30858 [00:00<00:03, 7059.07it/s]"
     ]
    },
    {
     "name": "stderr",
     "output_type": "stream",
     "text": [
      "\r 18%|█▊        | 5636/30858 [00:00<00:03, 7260.78it/s]"
     ]
    },
    {
     "name": "stderr",
     "output_type": "stream",
     "text": [
      "\r 21%|██        | 6419/30858 [00:00<00:03, 7420.62it/s]"
     ]
    },
    {
     "name": "stderr",
     "output_type": "stream",
     "text": [
      "\r 23%|██▎       | 7202/30858 [00:01<00:03, 7536.65it/s]"
     ]
    },
    {
     "name": "stderr",
     "output_type": "stream",
     "text": [
      "\r 26%|██▌       | 7976/30858 [00:01<00:03, 7594.18it/s]"
     ]
    },
    {
     "name": "stderr",
     "output_type": "stream",
     "text": [
      "\r 28%|██▊       | 8734/30858 [00:01<00:02, 7589.79it/s]"
     ]
    },
    {
     "name": "stderr",
     "output_type": "stream",
     "text": [
      "\r 31%|███       | 9488/30858 [00:01<00:02, 7445.81it/s]"
     ]
    },
    {
     "name": "stderr",
     "output_type": "stream",
     "text": [
      "\r 33%|███▎      | 10251/30858 [00:01<00:02, 7500.06it/s]"
     ]
    },
    {
     "name": "stderr",
     "output_type": "stream",
     "text": [
      "\r 36%|███▌      | 11036/30858 [00:01<00:02, 7600.15it/s]"
     ]
    },
    {
     "name": "stderr",
     "output_type": "stream",
     "text": [
      "\r 38%|███▊      | 11822/30858 [00:01<00:02, 7674.76it/s]"
     ]
    },
    {
     "name": "stderr",
     "output_type": "stream",
     "text": [
      "\r 41%|████      | 12589/30858 [00:01<00:02, 7672.45it/s]"
     ]
    },
    {
     "name": "stderr",
     "output_type": "stream",
     "text": [
      "\r 43%|████▎     | 13377/30858 [00:01<00:02, 7733.45it/s]"
     ]
    },
    {
     "name": "stderr",
     "output_type": "stream",
     "text": [
      "\r 46%|████▌     | 14168/30858 [00:01<00:02, 7780.18it/s]"
     ]
    },
    {
     "name": "stderr",
     "output_type": "stream",
     "text": [
      "\r 48%|████▊     | 14946/30858 [00:02<00:02, 7767.91it/s]"
     ]
    },
    {
     "name": "stderr",
     "output_type": "stream",
     "text": [
      "\r 51%|█████     | 15737/30858 [00:02<00:01, 7808.22it/s]"
     ]
    },
    {
     "name": "stderr",
     "output_type": "stream",
     "text": [
      "\r 54%|█████▎    | 16527/30858 [00:02<00:01, 7835.02it/s]"
     ]
    },
    {
     "name": "stderr",
     "output_type": "stream",
     "text": [
      "\r 56%|█████▌    | 17311/30858 [00:02<00:01, 7835.64it/s]"
     ]
    },
    {
     "name": "stderr",
     "output_type": "stream",
     "text": [
      "\r 59%|█████▊    | 18095/30858 [00:02<00:01, 7801.32it/s]"
     ]
    },
    {
     "name": "stderr",
     "output_type": "stream",
     "text": [
      "\r 61%|██████    | 18876/30858 [00:02<00:01, 7803.31it/s]"
     ]
    },
    {
     "name": "stderr",
     "output_type": "stream",
     "text": [
      "\r 64%|██████▍   | 19676/30858 [00:02<00:01, 7859.58it/s]"
     ]
    },
    {
     "name": "stderr",
     "output_type": "stream",
     "text": [
      "\r 66%|██████▋   | 20463/30858 [00:02<00:01, 7851.79it/s]"
     ]
    },
    {
     "name": "stderr",
     "output_type": "stream",
     "text": [
      "\r 69%|██████▉   | 21249/30858 [00:02<00:01, 7841.20it/s]"
     ]
    },
    {
     "name": "stderr",
     "output_type": "stream",
     "text": [
      "\r 71%|███████▏  | 22034/30858 [00:02<00:01, 7774.90it/s]"
     ]
    },
    {
     "name": "stderr",
     "output_type": "stream",
     "text": [
      "\r 74%|███████▍  | 22816/30858 [00:03<00:01, 7786.28it/s]"
     ]
    },
    {
     "name": "stderr",
     "output_type": "stream",
     "text": [
      "\r 77%|███████▋  | 23611/30858 [00:03<00:00, 7834.01it/s]"
     ]
    },
    {
     "name": "stderr",
     "output_type": "stream",
     "text": [
      "\r 79%|███████▉  | 24397/30858 [00:03<00:00, 7839.23it/s]"
     ]
    },
    {
     "name": "stderr",
     "output_type": "stream",
     "text": [
      "\r 82%|████████▏ | 25182/30858 [00:03<00:00, 7783.27it/s]"
     ]
    },
    {
     "name": "stderr",
     "output_type": "stream",
     "text": [
      "\r 84%|████████▍ | 25961/30858 [00:03<00:00, 7762.90it/s]"
     ]
    },
    {
     "name": "stderr",
     "output_type": "stream",
     "text": [
      "\r 87%|████████▋ | 26738/30858 [00:03<00:00, 7763.03it/s]"
     ]
    },
    {
     "name": "stderr",
     "output_type": "stream",
     "text": [
      "\r 89%|████████▉ | 27515/30858 [00:03<00:00, 7736.89it/s]"
     ]
    },
    {
     "name": "stderr",
     "output_type": "stream",
     "text": [
      "\r 92%|█████████▏| 28294/30858 [00:03<00:00, 7752.65it/s]"
     ]
    },
    {
     "name": "stderr",
     "output_type": "stream",
     "text": [
      "\r 94%|█████████▍| 29073/30858 [00:03<00:00, 7761.61it/s]"
     ]
    },
    {
     "name": "stderr",
     "output_type": "stream",
     "text": [
      "\r 97%|█████████▋| 29850/30858 [00:03<00:00, 7755.67it/s]"
     ]
    },
    {
     "name": "stderr",
     "output_type": "stream",
     "text": [
      "\r 99%|█████████▉| 30645/30858 [00:04<00:00, 7812.11it/s]"
     ]
    },
    {
     "name": "stderr",
     "output_type": "stream",
     "text": [
      "\r100%|██████████| 30858/30858 [00:04<00:00, 7626.42it/s]"
     ]
    },
    {
     "name": "stderr",
     "output_type": "stream",
     "text": [
      "\n"
     ]
    },
    {
     "data": {
      "text/plain": [
       "DatetimeIndex(['2009-09-29 09:33:01', '2009-09-30 09:45:21',\n               '2009-09-30 13:31:12', '2009-10-01 09:43:58',\n               '2009-10-01 11:12:07', '2009-10-02 09:44:14',\n               '2009-10-02 10:35:05', '2009-10-05 09:51:42',\n               '2009-10-05 14:55:48', '2009-10-06 09:29:52',\n               ...\n               '2018-02-16 14:23:51', '2018-02-20 09:30:00',\n               '2018-02-20 15:21:07', '2018-02-21 14:04:12',\n               '2018-02-21 15:12:30', '2018-02-22 12:18:21',\n               '2018-02-22 14:56:14', '2018-02-23 11:37:32',\n               '2018-02-23 15:58:39', '2018-02-26 13:06:34'],\n              dtype='datetime64[ns]', length=2278, freq=None)"
      ]
     },
     "execution_count": 6,
     "metadata": {},
     "output_type": "execute_result"
    }
   ],
   "source": [
    "tEvents = labeller.getTEvents(close,h=dailyVol.mean())\n",
    "tEvents"
   ]
  },
  {
   "cell_type": "code",
   "execution_count": 7,
   "metadata": {},
   "outputs": [
    {
     "data": {
      "text/plain": [
       "2009-09-29 09:33:01   2009-09-30 09:45:21\n2009-09-30 09:45:21   2009-10-01 10:00:48\n2009-09-30 13:31:12   2009-10-01 13:33:25\n2009-10-01 09:43:58   2009-10-02 09:44:14\n2009-10-01 11:12:07   2009-10-02 11:50:21\ndtype: datetime64[ns]"
      ]
     },
     "execution_count": 7,
     "metadata": {},
     "output_type": "execute_result"
    }
   ],
   "source": [
    "t1 = labeller.addVerticalBarrier(tEvents, close, numDays=1)\n",
    "t1.head()"
   ]
  },
  {
   "cell_type": "code",
   "execution_count": 8,
   "metadata": {},
   "outputs": [
    {
     "name": "stderr",
     "output_type": "stream",
     "text": [
      "2019-03-17 11:41:51.858629 33.33% applyPtSlOnT1 done after 0.02 minutes. Remaining 0.03 minutes.\r2019-03-17 11:41:51.858974 66.67% applyPtSlOnT1 done after 0.02 minutes. Remaining 0.01 minutes.\r2019-03-17 11:41:51.861682 100.0% applyPtSlOnT1 done after 0.02 minutes. Remaining 0.0 minutes.\n"
     ]
    }
   ],
   "source": [
    "# create target series\n",
    "ptsl = [1,1]\n",
    "target=dailyVol\n",
    "# select minRet\n",
    "minRet = 0.01\n",
    "\n",
    "from multiprocessing import cpu_count\n",
    "\n",
    "# Run in single-threaded mode on Windows\n",
    "import platform\n",
    "if platform.system() == \"Windows\":\n",
    "    cpus = 1\n",
    "else:\n",
    "    cpus = cpu_count() - 1\n",
    "    \n",
    "events = labeller.getEvents(close,tEvents,ptsl,target,minRet,cpus,t1=t1)"
   ]
  },
  {
   "cell_type": "code",
   "execution_count": 9,
   "metadata": {},
   "outputs": [
    {
     "name": "stdout",
     "output_type": "stream",
     "text": [
      "                          ret  bin\n2009-10-05 14:55:48  0.015732  1.0\n2009-10-06 09:29:52  0.000982  1.0\n2009-10-06 11:32:02 -0.006544 -1.0\n2009-10-06 14:07:37  0.002648  1.0\n2009-10-08 09:29:51 -0.003092 -1.0\n<class 'pandas.core.frame.DataFrame'>\nDatetimeIndex: 929 entries, 2009-10-05 14:55:48 to 2018-02-15 14:05:41\nData columns (total 2 columns):\nret    929 non-null float64\nbin    929 non-null float64\ndtypes: float64(2)\nmemory usage: 61.8 KB\nNone\n 1.0    523\n-1.0    406\nName: bin, dtype: int64\n"
     ]
    }
   ],
   "source": [
    "labels = labeller.getBins(events, close)\n",
    "print(labels.head())\n",
    "print(labels.info(verbose=True))\n",
    "print(labels.bin.value_counts())"
   ]
  },
  {
   "cell_type": "code",
   "execution_count": 10,
   "metadata": {},
   "outputs": [
    {
     "name": "stdout",
     "output_type": "stream",
     "text": [
      "                          ret  bin\n2009-10-05 14:55:48  0.015732  1.0\n2009-10-06 09:29:52  0.000982  1.0\n2009-10-06 11:32:02 -0.006544 -1.0\n2009-10-06 14:07:37  0.002648  1.0\n2009-10-08 09:29:51 -0.003092 -1.0\n<class 'pandas.core.frame.DataFrame'>\nDatetimeIndex: 929 entries, 2009-10-05 14:55:48 to 2018-02-15 14:05:41\nData columns (total 2 columns):\nret    929 non-null float64\nbin    929 non-null float64\ndtypes: float64(2)\nmemory usage: 61.8 KB\nNone\n 1.0    523\n-1.0    406\nName: bin, dtype: int64\n"
     ]
    }
   ],
   "source": [
    "clean_labels = labeller.dropLabels(labels)\n",
    "print(clean_labels.head())\n",
    "print(clean_labels.info(verbose=True))\n",
    "print(clean_labels.bin.value_counts())"
   ]
  },
  {
   "cell_type": "code",
   "execution_count": 11,
   "metadata": {},
   "outputs": [],
   "source": [
    ""
   ]
  },
  {
   "cell_type": "code",
   "execution_count": 11,
   "metadata": {},
   "outputs": [],
   "source": []
  }
 ],
 "metadata": {
  "kernelspec": {
   "display_name": "Python 2",
   "language": "python",
   "name": "python2"
  },
  "language_info": {
   "codemirror_mode": {
    "name": "ipython",
    "version": 2
   },
   "file_extension": ".py",
   "mimetype": "text/x-python",
   "name": "python",
   "nbconvert_exporter": "python",
   "pygments_lexer": "ipython2",
   "version": "2.7.6"
  }
 },
 "nbformat": 4,
 "nbformat_minor": 0
}
