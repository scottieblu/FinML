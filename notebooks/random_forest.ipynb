{
 "cells": [
  {
   "cell_type": "code",
   "execution_count": 10,
   "metadata": {
    "collapsed": true
   },
   "outputs": [
    {
     "name": "stdout",
     "output_type": "stream",
     "text": [
      "Python 3.6.8 |Anaconda, Inc.| (default, Dec 29 2018, 19:04:46) \n[GCC 4.2.1 Compatible Clang 4.0.1 (tags/RELEASE_401/final)] on darwin\n/Users/scottblunsden/Programs/FinML\n-------------------------------------------------------------------------------\ndataframe information\n-------------------------------------------------------------------------------\n                          ret  bin  side\n2016-07-07 14:28:00 -0.018703  0.0    -1\n2016-07-08 09:30:57  0.010571  1.0     1\n2018-02-06 10:18:08 -0.026702  0.0    -1\n2018-02-07 15:28:09 -0.030792  0.0     1\n2018-02-13 09:30:00 -0.001803  0.0    -1\n--------------------------------------------------\n<class 'pandas.core.frame.DataFrame'>\nDatetimeIndex: 102 entries, 2009-10-29 13:40:22 to 2018-02-13 09:30:00\nData columns (total 3 columns):\nret     102 non-null float64\nbin     102 non-null float64\nside    102 non-null int64\ndtypes: float64(2), int64(1)\nmemory usage: 3.2 KB\nNone\n-------------------------------------------------------------------------------\n\n"
     ]
    }
   ],
   "source": [
    "import sys\n",
    "import warnings\n",
    "import pandas as pd\n",
    "import src.features.labeller as lab\n",
    "import src.features.bars as bar\n",
    "\n",
    "from pathlib import PurePath\n",
    "\n",
    "from src.utils.utils import get_relative_project_dir, cprint\n",
    "\n",
    "warnings.filterwarnings(\"ignore\")\n",
    "\n",
    "print('Python %s on %s' % (sys.version, sys.platform))\n",
    "\n",
    "pdir = get_relative_project_dir('FinML', partial=False)\n",
    "# for notebook references\n",
    "sys.path.extend([pdir])\n",
    "print(pdir)\n",
    "\n",
    "data_dir = pdir / 'data'\n",
    "data_raw_dir = data_dir / 'raw'\n",
    "data_interim_dir = data_dir / 'interim'\n",
    "data_processed_dir = data_dir / 'processed'\n",
    "\n",
    "file_name = 'IVE_dollarValue_resampled_1s_cross_train_label'\n",
    "file_ext = '.parq'\n",
    "\n",
    "parq_file_name = file_name + file_ext\n",
    "# Load from parquet\n",
    "infp = PurePath(data_processed_dir / parq_file_name)\n",
    "\n",
    "df = pd.read_parquet(infp)\n",
    "\n",
    "cprint(df)\n",
    "\n",
    "\n",
    "\n",
    "\n"
   ]
  },
  {
   "cell_type": "code",
   "execution_count": 11,
   "metadata": {},
   "outputs": [
    {
     "name": "stdout",
     "output_type": "stream",
     "text": [
      "              precision    recall  f1-score   support\n\n         0.0       0.00      0.00      0.00        24\n         1.0       0.53      1.00      0.69        27\n\n   micro avg       0.53      0.53      0.53        51\n   macro avg       0.26      0.50      0.35        51\nweighted avg       0.28      0.53      0.37        51\n\n"
     ]
    },
    {
     "data": {
      "image/png": "[encoded data removed]",
      "text/plain": [
       "<Figure size 432x288 with 1 Axes>"
      ]
     },
     "metadata": {},
     "output_type": "display_data"
    }
   ],
   "source": [
    "import matplotlib.pyplot as plt\n",
    "from sklearn.ensemble import RandomForestClassifier\n",
    "from sklearn.model_selection import train_test_split\n",
    "from sklearn.metrics import roc_curve, classification_report\n",
    "\n",
    "RANDOM_STATE = 777\n",
    "\n",
    "#training data\n",
    "X = df.side.values.reshape(-1,1)\n",
    "#labels\n",
    "y = df.bin.values\n",
    "\n",
    "X_train, X_test, y_train, y_test = train_test_split(X, y, test_size=0.5,\n",
    "                                                    shuffle=False)\n",
    "\n",
    "n_estimator = 10000\n",
    "rf = RandomForestClassifier(max_depth=2, n_estimators=n_estimator,\n",
    "                            criterion='entropy', random_state=RANDOM_STATE)\n",
    "rf.fit(X_train, y_train)\n",
    "\n",
    "# The random forest model by itself\n",
    "y_pred_rf = rf.predict_proba(X_test)[:, 1]\n",
    "y_pred = rf.predict(X_test)\n",
    "fpr_rf, tpr_rf, _ = roc_curve(y_test, y_pred_rf)\n",
    "print(classification_report(y_test, y_pred))\n",
    "\n",
    "plt.figure(1)\n",
    "plt.plot([0, 1], [0, 1], 'k--')\n",
    "plt.plot(fpr_rf, tpr_rf, label='RF')\n",
    "plt.xlabel('False positive rate')\n",
    "plt.ylabel('True positive rate')\n",
    "plt.title('ROC curve')\n",
    "plt.legend(loc='best')\n",
    "plt.show()"
   ]
  },
  {
   "cell_type": "code",
   "execution_count": null,
   "metadata": {},
   "outputs": [],
   "source": []
  }
 ],
 "metadata": {
  "kernelspec": {
   "display_name": "Python 2",
   "language": "python",
   "name": "python2"
  },
  "language_info": {
   "codemirror_mode": {
    "name": "ipython",
    "version": 2
   },
   "file_extension": ".py",
   "mimetype": "text/x-python",
   "name": "python",
   "nbconvert_exporter": "python",
   "pygments_lexer": "ipython2",
   "version": "2.7.6"
  }
 },
 "nbformat": 4,
 "nbformat_minor": 0
}
